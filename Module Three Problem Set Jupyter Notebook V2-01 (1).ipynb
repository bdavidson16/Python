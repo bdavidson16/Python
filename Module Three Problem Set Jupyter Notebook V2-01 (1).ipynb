{
 "cells": [
  {
   "cell_type": "markdown",
   "metadata": {
    "deletable": false,
    "editable": false
   },
   "source": [
    "# Module Three Problem Set: Second Order Regression Models\n",
    "\n",
    "In this notebook, you have been given a set of steps that will show you how to create a multiple regression model in R. It is very important to run the steps in order. Some steps depend on the outputs of earlier steps. Once you have run all the steps, you will be asked to create your own multiple regression model to help you answer the questions in Module Three the Problem Set. You are expected to write the R script yourself to answer these questions.\n",
    "\n",
    "Reminder: If you have not already reviewed the Problem Set Report template for your Module Three Problem Set, be sure to do so now. That will give you an idea of the questions you will need to answer with the outputs of this script. You should use the code you are given as reference when writing your own scripts.\n"
   ]
  },
  {
   "cell_type": "markdown",
   "metadata": {
    "deletable": false,
    "editable": false
   },
   "source": [
    "### Step 1: Loading the Data Set\n",
    "\n",
    "You are an analyst working for the government and you have access to a set of historical data that can be used to study wage growth of the labor force. Governments are interested in studying wage growth patterns based on their economic agenda. This data set has other economic factors that are related to wage growth. You will use this data set to create models for wage growth.\n",
    "\n",
    "This block of R code will load the **economic** data set from a CSV file. It will then display the first six rows of the data. Here are the variables contained in the data set:\n",
    "\n",
    "| <div style=\"text-align: left\"> Variable </div>  |   <div style=\"text-align: left\"> What does it represent? </div> |\n",
    "| -- | --  |\n",
    "| <div style=\"text-align: left\"> wage_growth </div> | <div style=\"text-align: left\"> Wage growth rate </div> |\n",
    "| <div style=\"text-align: left\"> inflation </div> | <div style=\"text-align: left\"> Rate of inflation </div> |\n",
    "| <div style=\"text-align: left\"> unemployment </div> | <div style=\"text-align: left\"> Unemployment rate</div> |\n",
    "| <div style=\"text-align: left\"> economy </div> | <div style=\"text-align: left\"> Economy in recession or not in recession </div> |\n",
    "| <div style=\"text-align: left\"> gdp </div> | <div style=\"text-align: left\"> GDP growth rate </div> |\n",
    "\n",
    "Note: This is a simulated data set based on a real-world problem.\n",
    "\n",
    "Click the code section below and hit the **Run** button above."
   ]
  },
  {
   "cell_type": "code",
   "execution_count": 1,
   "metadata": {
    "deletable": false,
    "editable": false
   },
   "outputs": [
    {
     "name": "stdout",
     "output_type": "stream",
     "text": [
      "[1] \"head\"\n"
     ]
    },
    {
     "data": {
      "text/html": [
       "<table class=\"dataframe\">\n",
       "<caption>A data.frame: 6 × 6</caption>\n",
       "<thead>\n",
       "\t<tr><th></th><th scope=col>wage_growth</th><th scope=col>inflation</th><th scope=col>unemployment</th><th scope=col>economy</th><th scope=col>education</th><th scope=col>gdp</th></tr>\n",
       "\t<tr><th></th><th scope=col>&lt;dbl&gt;</th><th scope=col>&lt;dbl&gt;</th><th scope=col>&lt;dbl&gt;</th><th scope=col>&lt;chr&gt;</th><th scope=col>&lt;chr&gt;</th><th scope=col>&lt;dbl&gt;</th></tr>\n",
       "</thead>\n",
       "<tbody>\n",
       "\t<tr><th scope=row>1</th><td> 7.30</td><td> 4.49</td><td>3.56</td><td>no_recession</td><td>college      </td><td> 6.27</td></tr>\n",
       "\t<tr><th scope=row>2</th><td> 9.05</td><td> 9.59</td><td>2.42</td><td>no_recession</td><td>college      </td><td> 9.44</td></tr>\n",
       "\t<tr><th scope=row>3</th><td>10.08</td><td>11.36</td><td>1.23</td><td>no_recession</td><td>post_graduate</td><td>18.29</td></tr>\n",
       "\t<tr><th scope=row>4</th><td>10.98</td><td> 9.55</td><td>1.18</td><td>no_recession</td><td>post_graduate</td><td>19.96</td></tr>\n",
       "\t<tr><th scope=row>5</th><td> 8.54</td><td> 8.63</td><td>2.54</td><td>no_recession</td><td>high_school  </td><td> 8.43</td></tr>\n",
       "\t<tr><th scope=row>6</th><td> 9.75</td><td> 8.26</td><td>2.22</td><td>no_recession</td><td>college      </td><td>17.85</td></tr>\n",
       "</tbody>\n",
       "</table>\n"
      ],
      "text/latex": [
       "A data.frame: 6 × 6\n",
       "\\begin{tabular}{r|llllll}\n",
       "  & wage\\_growth & inflation & unemployment & economy & education & gdp\\\\\n",
       "  & <dbl> & <dbl> & <dbl> & <chr> & <chr> & <dbl>\\\\\n",
       "\\hline\n",
       "\t1 &  7.30 &  4.49 & 3.56 & no\\_recession & college       &  6.27\\\\\n",
       "\t2 &  9.05 &  9.59 & 2.42 & no\\_recession & college       &  9.44\\\\\n",
       "\t3 & 10.08 & 11.36 & 1.23 & no\\_recession & post\\_graduate & 18.29\\\\\n",
       "\t4 & 10.98 &  9.55 & 1.18 & no\\_recession & post\\_graduate & 19.96\\\\\n",
       "\t5 &  8.54 &  8.63 & 2.54 & no\\_recession & high\\_school   &  8.43\\\\\n",
       "\t6 &  9.75 &  8.26 & 2.22 & no\\_recession & college       & 17.85\\\\\n",
       "\\end{tabular}\n"
      ],
      "text/markdown": [
       "\n",
       "A data.frame: 6 × 6\n",
       "\n",
       "| <!--/--> | wage_growth &lt;dbl&gt; | inflation &lt;dbl&gt; | unemployment &lt;dbl&gt; | economy &lt;chr&gt; | education &lt;chr&gt; | gdp &lt;dbl&gt; |\n",
       "|---|---|---|---|---|---|---|\n",
       "| 1 |  7.30 |  4.49 | 3.56 | no_recession | college       |  6.27 |\n",
       "| 2 |  9.05 |  9.59 | 2.42 | no_recession | college       |  9.44 |\n",
       "| 3 | 10.08 | 11.36 | 1.23 | no_recession | post_graduate | 18.29 |\n",
       "| 4 | 10.98 |  9.55 | 1.18 | no_recession | post_graduate | 19.96 |\n",
       "| 5 |  8.54 |  8.63 | 2.54 | no_recession | high_school   |  8.43 |\n",
       "| 6 |  9.75 |  8.26 | 2.22 | no_recession | college       | 17.85 |\n",
       "\n"
      ],
      "text/plain": [
       "  wage_growth inflation unemployment economy      education     gdp  \n",
       "1  7.30        4.49     3.56         no_recession college        6.27\n",
       "2  9.05        9.59     2.42         no_recession college        9.44\n",
       "3 10.08       11.36     1.23         no_recession post_graduate 18.29\n",
       "4 10.98        9.55     1.18         no_recession post_graduate 19.96\n",
       "5  8.54        8.63     2.54         no_recession high_school    8.43\n",
       "6  9.75        8.26     2.22         no_recession college       17.85"
      ]
     },
     "metadata": {},
     "output_type": "display_data"
    }
   ],
   "source": [
    "economic <- read.csv(file='economic.csv', header=TRUE, sep=\",\")\n",
    "\n",
    "# Print the first six rows\n",
    "print(\"head\")\n",
    "head(economic, 6)"
   ]
  },
  {
   "cell_type": "markdown",
   "metadata": {},
   "source": [
    " "
   ]
  },
  {
   "cell_type": "markdown",
   "metadata": {
    "deletable": false,
    "editable": false
   },
   "source": [
    "## Step 2: Scatterplot of Wage Growth and GDP Growth\n",
    "In this step, you will use the **plot** function in R to print the scatterplot for variables **wage_growth** and **gdp** in the data set.  \n",
    "\n",
    "\n",
    "Click the block of code below and hit the **Run** button above.  \n",
    "NOTE: If the plot is not created, click the code section and hit the **Run** button again."
   ]
  },
  {
   "cell_type": "code",
   "execution_count": 5,
   "metadata": {
    "deletable": false,
    "editable": false
   },
   "outputs": [
    {
     "data": {
      "image/png": "[encoded data removed]",
      "text/plain": [
       "Plot with title \"Scatterplot of Wage Growth and GDP\""
      ]
     },
     "metadata": {
      "image/png": {
       "height": 420,
       "width": 420
      }
     },
     "output_type": "display_data"
    }
   ],
   "source": [
    "plot(economic$gdp, economic$wage_growth, \n",
    "     main = \"Scatterplot of Wage Growth and GDP\",\n",
    "     xlab = \"GDP\", ylab = \"Wage Growth\",\n",
    "     col=\"red\", \n",
    "     pch = 19, frame = FALSE)"
   ]
  },
  {
   "cell_type": "markdown",
   "metadata": {},
   "source": [
    " "
   ]
  },
  {
   "cell_type": "markdown",
   "metadata": {
    "deletable": false,
    "editable": false
   },
   "source": [
    "## Step 3: Scatterplot of Wage Growth and Inflation\n",
    "In this step, you will use the **plot** function in R to print the scatterplot for variables **wage_growth** and **inflation** in the data set.  \n",
    "\n",
    "\n",
    "Click the block of code below and hit the **Run** button above.  \n",
    "NOTE: If the plot is not created, click the code section and hit the **Run** button again."
   ]
  },
  {
   "cell_type": "code",
   "execution_count": 6,
   "metadata": {
    "deletable": false,
    "editable": false,
    "scrolled": true
   },
   "outputs": [
    {
     "data": {
      "image/png": "[encoded data removed]",
      "text/plain": [
       "Plot with title \"Scatterplot of Wage Growth and Inflation\""
      ]
     },
     "metadata": {
      "image/png": {
       "height": 420,
       "width": 420
      }
     },
     "output_type": "display_data"
    }
   ],
   "source": [
    "plot(economic$inflation, economic$wage_growth, \n",
    "     main = \"Scatterplot of Wage Growth and Inflation\",\n",
    "     xlab = \"Inflation\", ylab = \"Wage Growth\",\n",
    "     col=\"red\", \n",
    "     pch = 19, frame = FALSE)"
   ]
  },
  {
   "cell_type": "markdown",
   "metadata": {},
   "source": [
    " "
   ]
  },
  {
   "cell_type": "markdown",
   "metadata": {
    "deletable": false,
    "editable": false,
    "jp-MarkdownHeadingCollapsed": true
   },
   "source": [
    "## Step 4: Quadratic (Second Order) Model with One Quantitative Variable\n",
    "In this step, you will create a second order multiple regression model for **wage_growth** as the response variable and **gdp** as the predictor variable. \n",
    "\n",
    "The general form of this second order regression model is:\n",
    "<br><br>\n",
    "\\begin{equation*}\n",
    "\\large E(y) = {\\beta}_0 +\\ {\\beta}_1\\ {x} +\\ {\\beta}_2\\ {x}^2\n",
    "\\end{equation*}\n",
    "<br><br>\n",
    "\n",
    "\n",
    "The prediction regression model is:\n",
    "\n",
    "<br>\n",
    "\\begin{equation*}\n",
    "\\large \\hat{y} = \\hat{{\\beta}_0} +\\ \\hat{{\\beta}_1}\\ {x}\\ +\\ \\hat{{\\beta}_2}\\ {x}^2\n",
    "\\end{equation*}\n",
    "<br>\n",
    "\n",
    "\n",
    "\\begin{equation*}\n",
    "\\text{where } \\hat{y} \\text{ is the predicted value of wage growth and }\\ {x}\\ \\text{is GDP growth}\n",
    "\\end{equation*}\n",
    "\n",
    "\\begin{equation*}\n",
    "\\hat{{\\beta}_0} \\text{,} \\hspace{0.25cm} \\hat{{\\beta}_1} \\text{, } \\hspace{0.25cm} \\hat{{\\beta}_2} \\text{  } \\text{ are estimates of}\n",
    "\\text{  } {\\beta}_0\\ \\text{,} \\hspace{0.25cm} {\\beta}_1\\ \\text{,} \\hspace{0.25cm} {\\beta}_2\\ \\text{ respectively  }\n",
    "\\end{equation*}\n",
    "<br><br>\n",
    "\n",
    "The following code block will create this second order model. \n",
    "\n",
    "Click the block of code below and hit the **Run** button above.  "
   ]
  },
  {
   "cell_type": "code",
   "execution_count": 7,
   "metadata": {
    "deletable": false,
    "editable": false
   },
   "outputs": [
    {
     "data": {
      "text/plain": [
       "\n",
       "Call:\n",
       "lm(formula = wage_growth ~ gdp + I(gdp^2), data = economic)\n",
       "\n",
       "Residuals:\n",
       "    Min      1Q  Median      3Q     Max \n",
       "-2.4028 -0.8161 -0.2157  0.7948  2.9852 \n",
       "\n",
       "Coefficients:\n",
       "             Estimate Std. Error t value Pr(>|t|)    \n",
       "(Intercept)  0.713275   0.365647   1.951    0.054 .  \n",
       "gdp          1.114431   0.082167  13.563  < 2e-16 ***\n",
       "I(gdp^2)    -0.032609   0.003843  -8.485 2.64e-13 ***\n",
       "---\n",
       "Signif. codes:  0 '***' 0.001 '**' 0.01 '*' 0.05 '.' 0.1 ' ' 1\n",
       "\n",
       "Residual standard error: 1.147 on 96 degrees of freedom\n",
       "Multiple R-squared:  0.8338,\tAdjusted R-squared:  0.8303 \n",
       "F-statistic: 240.7 on 2 and 96 DF,  p-value: < 2.2e-16\n"
      ]
     },
     "metadata": {},
     "output_type": "display_data"
    }
   ],
   "source": [
    "# Create the second order regression model and print the statistics\n",
    "model1 <- lm(wage_growth ~ gdp + I(gdp^2), data=economic)\n",
    "summary(model1)"
   ]
  },
  {
   "cell_type": "markdown",
   "metadata": {
    "deletable": false,
    "editable": false
   },
   "source": [
    "### Interpretation of Beta Estimates\n",
    "From the output in previous step, the regression model is:\n",
    "<br><br>\n",
    "\\begin{equation*}\n",
    "\\large \\hat{y} = 0.7133\\ +\\ 1.1144\\ {x} -\\ 0.0326\\ {x}^2\n",
    "\\end{equation*}\n",
    "<br><br>\n",
    "\n",
    "* Note that the estimated coefficient of term x is 1.1144. In the presence of the squared term (x^2), it no longer represents a slope coefficient. The estimated coefficient of x does not have a meaningful interpretation. \n",
    "<br><br>\n",
    "* The estimated coefficient of term x^2 is -0.0326. Since the sign of this coefficient is \"-\" (negative), it indicates a curve with downward concavity. This confirms the relationship observed in step 2. A \"+\" (positive) sign for the estimate would indicate a curve relationship that has upward concavity. Thus, the estimated coefficient of term x^2 represents the rate of curvature.\n"
   ]
  },
  {
   "cell_type": "markdown",
   "metadata": {
    "deletable": false,
    "editable": false,
    "jp-MarkdownHeadingCollapsed": true
   },
   "source": [
    "## Step 5: Prediction, Prediction Interval, and Confidence Interval\n",
    "In this step, you will predict the wage growth when the GDP is growing at 1.70%. You will also obtain a 90% prediction interval and confidence interval for this prediction. Note that this observation is not from the data set that was used to create this model. \n",
    "\n",
    "Click the block of code below and hit the **Run** button above.  "
   ]
  },
  {
   "cell_type": "code",
   "execution_count": 8,
   "metadata": {
    "deletable": false,
    "editable": false
   },
   "outputs": [
    {
     "name": "stdout",
     "output_type": "stream",
     "text": [
      "[1] \"prediction interval\"\n"
     ]
    },
    {
     "data": {
      "text/html": [
       "<table class=\"dataframe\">\n",
       "<caption>A matrix: 1 × 3 of type dbl</caption>\n",
       "<thead>\n",
       "\t<tr><th></th><th scope=col>fit</th><th scope=col>lwr</th><th scope=col>upr</th></tr>\n",
       "</thead>\n",
       "<tbody>\n",
       "\t<tr><th scope=row>1</th><td>2.5136</td><td>0.5625</td><td>4.4646</td></tr>\n",
       "</tbody>\n",
       "</table>\n"
      ],
      "text/latex": [
       "A matrix: 1 × 3 of type dbl\n",
       "\\begin{tabular}{r|lll}\n",
       "  & fit & lwr & upr\\\\\n",
       "\\hline\n",
       "\t1 & 2.5136 & 0.5625 & 4.4646\\\\\n",
       "\\end{tabular}\n"
      ],
      "text/markdown": [
       "\n",
       "A matrix: 1 × 3 of type dbl\n",
       "\n",
       "| <!--/--> | fit | lwr | upr |\n",
       "|---|---|---|---|\n",
       "| 1 | 2.5136 | 0.5625 | 4.4646 |\n",
       "\n"
      ],
      "text/plain": [
       "  fit    lwr    upr   \n",
       "1 2.5136 0.5625 4.4646"
      ]
     },
     "metadata": {},
     "output_type": "display_data"
    },
    {
     "name": "stdout",
     "output_type": "stream",
     "text": [
      "[1] \"confidence interval\"\n"
     ]
    },
    {
     "data": {
      "text/html": [
       "<table class=\"dataframe\">\n",
       "<caption>A matrix: 1 × 3 of type dbl</caption>\n",
       "<thead>\n",
       "\t<tr><th></th><th scope=col>fit</th><th scope=col>lwr</th><th scope=col>upr</th></tr>\n",
       "</thead>\n",
       "<tbody>\n",
       "\t<tr><th scope=row>1</th><td>2.5136</td><td>2.092</td><td>2.9351</td></tr>\n",
       "</tbody>\n",
       "</table>\n"
      ],
      "text/latex": [
       "A matrix: 1 × 3 of type dbl\n",
       "\\begin{tabular}{r|lll}\n",
       "  & fit & lwr & upr\\\\\n",
       "\\hline\n",
       "\t1 & 2.5136 & 2.092 & 2.9351\\\\\n",
       "\\end{tabular}\n"
      ],
      "text/markdown": [
       "\n",
       "A matrix: 1 × 3 of type dbl\n",
       "\n",
       "| <!--/--> | fit | lwr | upr |\n",
       "|---|---|---|---|\n",
       "| 1 | 2.5136 | 2.092 | 2.9351 |\n",
       "\n"
      ],
      "text/plain": [
       "  fit    lwr   upr   \n",
       "1 2.5136 2.092 2.9351"
      ]
     },
     "metadata": {},
     "output_type": "display_data"
    }
   ],
   "source": [
    "newdata <- data.frame(gdp=1.70)\n",
    "\n",
    "print(\"prediction interval\")\n",
    "prediction_pred_int <- predict(model1, newdata, interval=\"predict\", level=0.90) \n",
    "round(prediction_pred_int,4)\n",
    "\n",
    "print(\"confidence interval\")\n",
    "prediction_conf_int <- predict(model1, newdata, interval=\"confidence\", level=0.90) \n",
    "round(prediction_conf_int,4)"
   ]
  },
  {
   "cell_type": "markdown",
   "metadata": {},
   "source": [
    " "
   ]
  },
  {
   "cell_type": "markdown",
   "metadata": {
    "deletable": false,
    "editable": false,
    "jp-MarkdownHeadingCollapsed": true
   },
   "source": [
    "## Step 6: Complete Second Order Model (Two Quantitative Variables)\n",
    "In this step, you will create a second order multiple regression model for **wage_growth** as the response variable and **inflation** and **gdp** as predictor variables. A complete second order model contains all of the terms in a first order model, as well as interaction terms, and second order terms involving squares for only the quantitative independent variables. \n",
    "\n",
    "The general form of this regression model is:\n",
    "<br>\n",
    "\n",
    "\\begin{equation*}\n",
    "\\large E(y) = {\\beta}_0\\ +\\ {\\beta}_1\\ {x}_1\\ +\\  {\\beta}_2\\ {x}_2\\ +\\ {\\beta}_3\\ {x}_1{x}_2 + \\ {\\beta}_4\\ {x}_1^2\\ +\\ {\\beta}_5\\ {x}_2^2\\ \n",
    "\\end{equation*}\n",
    "\n",
    "<br>\n",
    "\n",
    "The prediction regression model is:\n",
    "<br>\n",
    "\n",
    "\\begin{equation*}\n",
    "\\large \\hat{y} = \\hat{{\\beta}_0}\\ +\\ \\hat{{\\beta}_1}\\ {x}_1\\ +\\  \\hat{{\\beta}_2}\\ {x}_2\\ +\\ \\hat{{\\beta}_3}\\ {x}_1{x}_2 + \\ \\hat{{\\beta}_4}\\ {x}_1^2\\ +\\ \\hat{{\\beta}_5}\\ {x}_2^2\\ \n",
    "\\end{equation*}\n",
    "\n",
    "\n",
    "\\begin{equation*}\n",
    "\\text{where } \\hat{y} \\text{ is the predicted value of the wage growth,}\\ {x}_1\\ \\text{is Inflation, and }\\ {x}_2\\ \\text{is GDP growth}\n",
    "\\end{equation*}\n",
    "\n",
    "\\begin{equation*}\n",
    "\\hat{{\\beta}_0} \\text{,} \\hspace{0.25cm} \\hat{{\\beta}_1} \\text{, } \\hspace{0.25cm} \\hat{{\\beta}_2} \\text{,} \\hspace{0.25cm} \\hat{{\\beta}_3} \\text{,} \\hspace{0.25cm} \\hat{{\\beta}_4} \\text{,} \\hspace{0.25cm} \\hat{{\\beta}_5} \\text{  } \\text{ are estimates of }\n",
    "\\text{  } {\\beta}_0\\ \\text{,} \\hspace{0.25cm} {\\beta}_1\\ \\text{,} \\hspace{0.25cm} {\\beta}_2\\ \\text{,} \\hspace{0.25cm} {\\beta}_3\\ \\text{,} \\hspace{0.25cm} {\\beta}_4\\ \\text{,} \\hspace{0.25cm} {\\beta}_5\\ \\text{ respectively  }\n",
    "\\end{equation*}\n",
    "<br><br>\n",
    "\n",
    "\n",
    "The following code block will create this complete second order model. \n",
    "\n",
    "Click the block of code below and hit the **Run** button above.  "
   ]
  },
  {
   "cell_type": "code",
   "execution_count": 9,
   "metadata": {
    "deletable": false,
    "editable": false
   },
   "outputs": [
    {
     "data": {
      "text/plain": [
       "\n",
       "Call:\n",
       "lm(formula = wage_growth ~ inflation + gdp + inflation:gdp + \n",
       "    I(inflation^2) + I(gdp^2), data = economic)\n",
       "\n",
       "Residuals:\n",
       "     Min       1Q   Median       3Q      Max \n",
       "-2.51590 -0.55715 -0.08018  0.62653  2.09057 \n",
       "\n",
       "Coefficients:\n",
       "                Estimate Std. Error t value Pr(>|t|)    \n",
       "(Intercept)    -0.395208   0.365361  -1.082   0.2822    \n",
       "inflation       1.060687   0.195710   5.420 4.68e-07 ***\n",
       "gdp             0.545357   0.110379   4.941 3.42e-06 ***\n",
       "I(inflation^2) -0.027371   0.019822  -1.381   0.1706    \n",
       "I(gdp^2)       -0.003176   0.005775  -0.550   0.5837    \n",
       "inflation:gdp  -0.034358   0.017778  -1.933   0.0563 .  \n",
       "---\n",
       "Signif. codes:  0 '***' 0.001 '**' 0.01 '*' 0.05 '.' 0.1 ' ' 1\n",
       "\n",
       "Residual standard error: 0.8512 on 93 degrees of freedom\n",
       "Multiple R-squared:  0.9113,\tAdjusted R-squared:  0.9065 \n",
       "F-statistic: 191.1 on 5 and 93 DF,  p-value: < 2.2e-16\n"
      ]
     },
     "metadata": {},
     "output_type": "display_data"
    }
   ],
   "source": [
    "# Create the second order regression model and print the statistics\n",
    "model2 <- lm(wage_growth ~ inflation + gdp + inflation:gdp + I(inflation^2) + I(gdp^2) , data=economic)\n",
    "summary(model2)"
   ]
  },
  {
   "cell_type": "markdown",
   "metadata": {},
   "source": [
    " "
   ]
  },
  {
   "cell_type": "markdown",
   "metadata": {
    "deletable": false,
    "editable": false,
    "jp-MarkdownHeadingCollapsed": true
   },
   "source": [
    "## Step 7: Prediction, Prediction Interval, and Confidence Interval\n",
    "In this step, you will predict the wage growth when Inflation is 2.1% and the GDP is growing at 1.70%. You will also obtain a 90% prediction interval and confidence interval for this prediction. Note that this observation is not from the data set that was used to create this model. \n",
    "\n",
    "Click the block of code below and hit the **Run** button above.  "
   ]
  },
  {
   "cell_type": "code",
   "execution_count": 10,
   "metadata": {
    "deletable": false,
    "editable": false
   },
   "outputs": [
    {
     "name": "stdout",
     "output_type": "stream",
     "text": [
      "[1] \"prediction interval\"\n"
     ]
    },
    {
     "data": {
      "text/html": [
       "<table class=\"dataframe\">\n",
       "<caption>A matrix: 1 × 3 of type dbl</caption>\n",
       "<thead>\n",
       "\t<tr><th></th><th scope=col>fit</th><th scope=col>lwr</th><th scope=col>upr</th></tr>\n",
       "</thead>\n",
       "<tbody>\n",
       "\t<tr><th scope=row>1</th><td>2.5068</td><td>1.056</td><td>3.9576</td></tr>\n",
       "</tbody>\n",
       "</table>\n"
      ],
      "text/latex": [
       "A matrix: 1 × 3 of type dbl\n",
       "\\begin{tabular}{r|lll}\n",
       "  & fit & lwr & upr\\\\\n",
       "\\hline\n",
       "\t1 & 2.5068 & 1.056 & 3.9576\\\\\n",
       "\\end{tabular}\n"
      ],
      "text/markdown": [
       "\n",
       "A matrix: 1 × 3 of type dbl\n",
       "\n",
       "| <!--/--> | fit | lwr | upr |\n",
       "|---|---|---|---|\n",
       "| 1 | 2.5068 | 1.056 | 3.9576 |\n",
       "\n"
      ],
      "text/plain": [
       "  fit    lwr   upr   \n",
       "1 2.5068 1.056 3.9576"
      ]
     },
     "metadata": {},
     "output_type": "display_data"
    },
    {
     "name": "stdout",
     "output_type": "stream",
     "text": [
      "[1] \"confidence interval\"\n"
     ]
    },
    {
     "data": {
      "text/html": [
       "<table class=\"dataframe\">\n",
       "<caption>A matrix: 1 × 3 of type dbl</caption>\n",
       "<thead>\n",
       "\t<tr><th></th><th scope=col>fit</th><th scope=col>lwr</th><th scope=col>upr</th></tr>\n",
       "</thead>\n",
       "<tbody>\n",
       "\t<tr><th scope=row>1</th><td>2.5068</td><td>2.1831</td><td>2.8305</td></tr>\n",
       "</tbody>\n",
       "</table>\n"
      ],
      "text/latex": [
       "A matrix: 1 × 3 of type dbl\n",
       "\\begin{tabular}{r|lll}\n",
       "  & fit & lwr & upr\\\\\n",
       "\\hline\n",
       "\t1 & 2.5068 & 2.1831 & 2.8305\\\\\n",
       "\\end{tabular}\n"
      ],
      "text/markdown": [
       "\n",
       "A matrix: 1 × 3 of type dbl\n",
       "\n",
       "| <!--/--> | fit | lwr | upr |\n",
       "|---|---|---|---|\n",
       "| 1 | 2.5068 | 2.1831 | 2.8305 |\n",
       "\n"
      ],
      "text/plain": [
       "  fit    lwr    upr   \n",
       "1 2.5068 2.1831 2.8305"
      ]
     },
     "metadata": {},
     "output_type": "display_data"
    }
   ],
   "source": [
    "newdata <- data.frame(inflation=2.1, gdp=1.70)\n",
    "\n",
    "print(\"prediction interval\")\n",
    "prediction_pred_int <- predict(model2, newdata, interval=\"predict\", level=0.90) \n",
    "round(prediction_pred_int,4)\n",
    "\n",
    "print(\"confidence interval\")\n",
    "prediction_conf_int <- predict(model2, newdata, interval=\"confidence\", level=0.90) \n",
    "round(prediction_conf_int,4)"
   ]
  },
  {
   "cell_type": "markdown",
   "metadata": {},
   "source": [
    " "
   ]
  },
  {
   "cell_type": "markdown",
   "metadata": {
    "deletable": false,
    "editable": false
   },
   "source": [
    "## Step 8: Complete Second Order Model (One Quantitative and One Qualitative Variable)\n",
    "In this step, you will create a second order multiple regression model for **wage_growth** as the response variable and **inflation**, **economy** as predictor variables. A complete second order model contains all of the terms in a first order model, second order terms involving squares of only the quantitative independent variables, and interaction terms. \n",
    "\n",
    "The general form of the regression model is:\n",
    "<br>\n",
    "\n",
    "\\begin{equation*}\n",
    "\\large E(y) = {\\beta}_0\\ +\\ {\\beta}_1\\ {x}_1\\ +\\  {\\beta}_2\\ {x}_2\\ +\\ {\\beta}_3\\ {x}_1\\ {x}_2\\ +\\ {\\beta}_4\\ {x}_1^2\\ +\\ {\\beta}_5\\ {x}_1^2\\ {x}_2\n",
    "\\end{equation*}\n",
    "\n",
    "<br>\n",
    "The prediction regression model is:\n",
    "<br>\n",
    "\n",
    "\\begin{equation*}\n",
    "\\large \\hat{y} = \\hat{{\\beta}_0}\\ +\\ \\hat{{\\beta}_1}\\ {x}_1\\ +\\  \\hat{{\\beta}_2}\\ {x}_2\\ +\\ \\hat{{\\beta}_3}\\ {x}_1\\ {x}_2\\ +\\ \\hat{{\\beta}_4}\\ {x}_1^2\\ +\\ \\hat{{\\beta}_5}\\ {x}_1^2\\ {x}_2\n",
    "\\end{equation*}\n",
    "\n",
    "\\begin{equation*}\n",
    "\\text{where } \\hat{y} \\text{ is the predicted value of the wage growth,}\\ {x}_1\\ \\text{is Inflation, and }\\ {x}_2\\ \\text{is Economy}\n",
    "\\end{equation*}\n",
    "\n",
    "\\begin{equation*}\n",
    "\\hat{{\\beta}_0} \\text{,} \\hspace{0.25cm} \\hat{{\\beta}_1} \\text{, } \\hspace{0.25cm} \\hat{{\\beta}_2} \\text{,} \\hspace{0.25cm} \\hat{{\\beta}_3} \\text{,} \\hspace{0.25cm} \\hat{{\\beta}_4} \\text{,} \\hspace{0.25cm} \\hat{{\\beta}_5} \\text{  } \\text{ are estimates of }\n",
    "\\text{  } {\\beta}_0\\ \\text{,} \\hspace{0.25cm} {\\beta}_1\\ \\text{,} \\hspace{0.25cm} {\\beta}_2\\ \\text{,} \\hspace{0.25cm} {\\beta}_3\\ \\text{,} \\hspace{0.25cm} {\\beta}_4\\ \\text{,} \\hspace{0.25cm} {\\beta}_5\\ \\text{ respectively  }\n",
    "\\end{equation*}\n",
    "<br><br>\n",
    "\n",
    "The following code block will create this complete second-order model. \n",
    "\n",
    "Click the block of code below and hit the **Run** button above.  "
   ]
  },
  {
   "cell_type": "code",
   "execution_count": 11,
   "metadata": {
    "deletable": false,
    "editable": false
   },
   "outputs": [
    {
     "data": {
      "text/plain": [
       "\n",
       "Call:\n",
       "lm(formula = wage_growth ~ inflation + economy + inflation:economy + \n",
       "    I(inflation^2) + I(inflation^2):economy, data = economic)\n",
       "\n",
       "Residuals:\n",
       "    Min      1Q  Median      3Q     Max \n",
       "-2.7108 -0.6342  0.1124  0.7136  1.9368 \n",
       "\n",
       "Coefficients:\n",
       "                                Estimate Std. Error t value Pr(>|t|)    \n",
       "(Intercept)                      1.38806    0.73653   1.885  0.06261 .  \n",
       "inflation                        1.33488    0.22565   5.916 5.45e-08 ***\n",
       "economyrecession                -3.48576    2.14620  -1.624  0.10773    \n",
       "I(inflation^2)                  -0.05175    0.01598  -3.239  0.00167 ** \n",
       "inflation:economyrecession       1.41440    1.64178   0.862  0.39118    \n",
       "economyrecession:I(inflation^2) -0.16300    0.30307  -0.538  0.59197    \n",
       "---\n",
       "Signif. codes:  0 '***' 0.001 '**' 0.01 '*' 0.05 '.' 0.1 ' ' 1\n",
       "\n",
       "Residual standard error: 1.015 on 93 degrees of freedom\n",
       "Multiple R-squared:  0.8738,\tAdjusted R-squared:  0.867 \n",
       "F-statistic: 128.7 on 5 and 93 DF,  p-value: < 2.2e-16\n"
      ]
     },
     "metadata": {},
     "output_type": "display_data"
    }
   ],
   "source": [
    "# Create the second order regression model and print the statistics\n",
    "model3 <- lm(wage_growth ~ inflation + economy + inflation:economy + I(inflation^2) + I(inflation^2):economy, data=economic)\n",
    "summary(model3)"
   ]
  },
  {
   "cell_type": "markdown",
   "metadata": {},
   "source": [
    " "
   ]
  },
  {
   "cell_type": "markdown",
   "metadata": {
    "deletable": false,
    "editable": false
   },
   "source": [
    "## Step 9: Prediction, Prediction Interval, and Confidence Interval\n",
    "In this step, you will predict the wage growth when the inflation is 2.1% and the economy is in recession. You will also obtain a 90% prediction interval and confidence interval for this prediction. Note that this observation is not from the data set that was used to create this model. \n",
    "\n",
    "Click the block of code below and hit the **Run** button above.  "
   ]
  },
  {
   "cell_type": "code",
   "execution_count": 12,
   "metadata": {
    "deletable": false,
    "editable": false
   },
   "outputs": [
    {
     "name": "stdout",
     "output_type": "stream",
     "text": [
      "[1] \"prediction interval\"\n"
     ]
    },
    {
     "data": {
      "text/html": [
       "<table class=\"dataframe\">\n",
       "<caption>A matrix: 1 × 3 of type dbl</caption>\n",
       "<thead>\n",
       "\t<tr><th></th><th scope=col>fit</th><th scope=col>lwr</th><th scope=col>upr</th></tr>\n",
       "</thead>\n",
       "<tbody>\n",
       "\t<tr><th scope=row>1</th><td>2.7287</td><td>0.9822</td><td>4.4753</td></tr>\n",
       "</tbody>\n",
       "</table>\n"
      ],
      "text/latex": [
       "A matrix: 1 × 3 of type dbl\n",
       "\\begin{tabular}{r|lll}\n",
       "  & fit & lwr & upr\\\\\n",
       "\\hline\n",
       "\t1 & 2.7287 & 0.9822 & 4.4753\\\\\n",
       "\\end{tabular}\n"
      ],
      "text/markdown": [
       "\n",
       "A matrix: 1 × 3 of type dbl\n",
       "\n",
       "| <!--/--> | fit | lwr | upr |\n",
       "|---|---|---|---|\n",
       "| 1 | 2.7287 | 0.9822 | 4.4753 |\n",
       "\n"
      ],
      "text/plain": [
       "  fit    lwr    upr   \n",
       "1 2.7287 0.9822 4.4753"
      ]
     },
     "metadata": {},
     "output_type": "display_data"
    },
    {
     "name": "stdout",
     "output_type": "stream",
     "text": [
      "[1] \"confidence interval\"\n"
     ]
    },
    {
     "data": {
      "text/html": [
       "<table class=\"dataframe\">\n",
       "<caption>A matrix: 1 × 3 of type dbl</caption>\n",
       "<thead>\n",
       "\t<tr><th></th><th scope=col>fit</th><th scope=col>lwr</th><th scope=col>upr</th></tr>\n",
       "</thead>\n",
       "<tbody>\n",
       "\t<tr><th scope=row>1</th><td>2.7287</td><td>2.2767</td><td>3.1807</td></tr>\n",
       "</tbody>\n",
       "</table>\n"
      ],
      "text/latex": [
       "A matrix: 1 × 3 of type dbl\n",
       "\\begin{tabular}{r|lll}\n",
       "  & fit & lwr & upr\\\\\n",
       "\\hline\n",
       "\t1 & 2.7287 & 2.2767 & 3.1807\\\\\n",
       "\\end{tabular}\n"
      ],
      "text/markdown": [
       "\n",
       "A matrix: 1 × 3 of type dbl\n",
       "\n",
       "| <!--/--> | fit | lwr | upr |\n",
       "|---|---|---|---|\n",
       "| 1 | 2.7287 | 2.2767 | 3.1807 |\n",
       "\n"
      ],
      "text/plain": [
       "  fit    lwr    upr   \n",
       "1 2.7287 2.2767 3.1807"
      ]
     },
     "metadata": {},
     "output_type": "display_data"
    }
   ],
   "source": [
    "newdata <- data.frame(inflation=2.1, economy='recession')\n",
    "\n",
    "print(\"prediction interval\")\n",
    "prediction_pred_int <- predict(model3, newdata, interval=\"predict\", level=0.90) \n",
    "round(prediction_pred_int,4)\n",
    "\n",
    "print(\"confidence interval\")\n",
    "prediction_conf_int <- predict(model3, newdata, interval=\"confidence\", level=0.90) \n",
    "round(prediction_conf_int,4)"
   ]
  },
  {
   "cell_type": "markdown",
   "metadata": {
    "deletable": false,
    "editable": false,
    "jp-MarkdownHeadingCollapsed": true
   },
   "source": [
    "## Your Code\n",
    "\n",
    "You have been asked to create regression models in the Module Three Problem Set. Review the Problem Set Report template to see the questions you will be answering about your models.\n",
    "\n",
    "Use the empty blocks below to write the R code for your models and get outputs. Then use the outputs to answer the questions in your problem set report.\n",
    "\n",
    "**Note: Use the + (plus) button to add new code blocks or the scissor icon to remove empty code blocks, if needed.**"
   ]
  },
  {
   "cell_type": "code",
   "execution_count": null,
   "metadata": {},
   "outputs": [],
   "source": [
    "\n",
    "\n"
   ]
  },
  {
   "cell_type": "markdown",
   "metadata": {
    "deletable": false,
    "editable": false
   },
   "source": [
    "## End of Module Three Jupyter Notebook\n",
    "Attach the HTML output along with your problem set report for the Module Three Problem Set. The HTML output can be downloaded by clicking **File**, then **Download as**, then **HTML**. Be sure to answer all of the questions in your problem set report."
   ]
  }
 ],
 "metadata": {
  "kernelspec": {
   "display_name": "R",
   "language": "R",
   "name": "ir"
  },
  "language_info": {
   "codemirror_mode": "r",
   "file_extension": ".r",
   "mimetype": "text/x-r-source",
   "name": "R",
   "pygments_lexer": "r",
   "version": "4.4.2"
  }
 },
 "nbformat": 4,
 "nbformat_minor": 4
}
