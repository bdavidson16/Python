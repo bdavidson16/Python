{
 "cells": [
  {
   "cell_type": "code",
   "execution_count": 13,
   "id": "1e9e3a3a-2fa7-4ae3-baec-aab9a6b9ebcc",
   "metadata": {},
   "outputs": [
    {
     "name": "stdout",
     "output_type": "stream",
     "text": [
      "[1] \"head\"\n"
     ]
    },
    {
     "data": {
      "text/html": [
       "<table class=\"dataframe\">\n",
       "<caption>A data.frame: 6 × 6</caption>\n",
       "<thead>\n",
       "\t<tr><th></th><th scope=col>wage_growth</th><th scope=col>inflation</th><th scope=col>unemployment</th><th scope=col>economy</th><th scope=col>education</th><th scope=col>gdp</th></tr>\n",
       "\t<tr><th></th><th scope=col>&lt;dbl&gt;</th><th scope=col>&lt;dbl&gt;</th><th scope=col>&lt;dbl&gt;</th><th scope=col>&lt;chr&gt;</th><th scope=col>&lt;chr&gt;</th><th scope=col>&lt;dbl&gt;</th></tr>\n",
       "</thead>\n",
       "<tbody>\n",
       "\t<tr><th scope=row>1</th><td> 7.30</td><td> 4.49</td><td>3.56</td><td>no_recession</td><td>college      </td><td> 6.27</td></tr>\n",
       "\t<tr><th scope=row>2</th><td> 9.05</td><td> 9.59</td><td>2.42</td><td>no_recession</td><td>college      </td><td> 9.44</td></tr>\n",
       "\t<tr><th scope=row>3</th><td>10.08</td><td>11.36</td><td>1.23</td><td>no_recession</td><td>post_graduate</td><td>18.29</td></tr>\n",
       "\t<tr><th scope=row>4</th><td>10.98</td><td> 9.55</td><td>1.18</td><td>no_recession</td><td>post_graduate</td><td>19.96</td></tr>\n",
       "\t<tr><th scope=row>5</th><td> 8.54</td><td> 8.63</td><td>2.54</td><td>no_recession</td><td>high_school  </td><td> 8.43</td></tr>\n",
       "\t<tr><th scope=row>6</th><td> 9.75</td><td> 8.26</td><td>2.22</td><td>no_recession</td><td>college      </td><td>17.85</td></tr>\n",
       "</tbody>\n",
       "</table>\n"
      ],
      "text/latex": [
       "A data.frame: 6 × 6\n",
       "\\begin{tabular}{r|llllll}\n",
       "  & wage\\_growth & inflation & unemployment & economy & education & gdp\\\\\n",
       "  & <dbl> & <dbl> & <dbl> & <chr> & <chr> & <dbl>\\\\\n",
       "\\hline\n",
       "\t1 &  7.30 &  4.49 & 3.56 & no\\_recession & college       &  6.27\\\\\n",
       "\t2 &  9.05 &  9.59 & 2.42 & no\\_recession & college       &  9.44\\\\\n",
       "\t3 & 10.08 & 11.36 & 1.23 & no\\_recession & post\\_graduate & 18.29\\\\\n",
       "\t4 & 10.98 &  9.55 & 1.18 & no\\_recession & post\\_graduate & 19.96\\\\\n",
       "\t5 &  8.54 &  8.63 & 2.54 & no\\_recession & high\\_school   &  8.43\\\\\n",
       "\t6 &  9.75 &  8.26 & 2.22 & no\\_recession & college       & 17.85\\\\\n",
       "\\end{tabular}\n"
      ],
      "text/markdown": [
       "\n",
       "A data.frame: 6 × 6\n",
       "\n",
       "| <!--/--> | wage_growth &lt;dbl&gt; | inflation &lt;dbl&gt; | unemployment &lt;dbl&gt; | economy &lt;chr&gt; | education &lt;chr&gt; | gdp &lt;dbl&gt; |\n",
       "|---|---|---|---|---|---|---|\n",
       "| 1 |  7.30 |  4.49 | 3.56 | no_recession | college       |  6.27 |\n",
       "| 2 |  9.05 |  9.59 | 2.42 | no_recession | college       |  9.44 |\n",
       "| 3 | 10.08 | 11.36 | 1.23 | no_recession | post_graduate | 18.29 |\n",
       "| 4 | 10.98 |  9.55 | 1.18 | no_recession | post_graduate | 19.96 |\n",
       "| 5 |  8.54 |  8.63 | 2.54 | no_recession | high_school   |  8.43 |\n",
       "| 6 |  9.75 |  8.26 | 2.22 | no_recession | college       | 17.85 |\n",
       "\n"
      ],
      "text/plain": [
       "  wage_growth inflation unemployment economy      education     gdp  \n",
       "1  7.30        4.49     3.56         no_recession college        6.27\n",
       "2  9.05        9.59     2.42         no_recession college        9.44\n",
       "3 10.08       11.36     1.23         no_recession post_graduate 18.29\n",
       "4 10.98        9.55     1.18         no_recession post_graduate 19.96\n",
       "5  8.54        8.63     2.54         no_recession high_school    8.43\n",
       "6  9.75        8.26     2.22         no_recession college       17.85"
      ]
     },
     "metadata": {},
     "output_type": "display_data"
    }
   ],
   "source": [
    "economic <- read.csv(file='economic.csv', header=TRUE, sep=\",\")\n",
    "\n",
    "# Print the first six rows\n",
    "print(\"head\")\n",
    "head(economic, 6)"
   ]
  },
  {
   "cell_type": "markdown",
   "id": "e4d3359d-70ae-4cb9-8c73-bfc66a69ac07",
   "metadata": {},
   "source": [
    "## Scatterplot Wage vs. Unemployment"
   ]
  },
  {
   "cell_type": "code",
   "execution_count": 14,
   "id": "97399161-d89c-41af-800f-e02c1a2eed46",
   "metadata": {},
   "outputs": [
    {
     "data": {
      "image/png": "[encoded data removed]",
      "text/plain": [
       "Plot with title \"Scatterplot of Wage Growth and GDP\""
      ]
     },
     "metadata": {
      "image/png": {
       "height": 420,
       "width": 420
      }
     },
     "output_type": "display_data"
    }
   ],
   "source": [
    "plot(economic$unemployment, economic$wage_growth, \n",
    "     main = \"Scatterplot of Wage Growth and GDP\",\n",
    "     xlab = \"GDP\", ylab = \"Wage Growth\",\n",
    "     col=\"red\", \n",
    "     pch = 19, frame = FALSE)"
   ]
  },
  {
   "cell_type": "markdown",
   "id": "766e4e35-d0df-4408-976e-026fe77702b2",
   "metadata": {
    "jp-MarkdownHeadingCollapsed": true
   },
   "source": [
    "# One Quantitative Var. Second Order Regression Model, Stats"
   ]
  },
  {
   "cell_type": "code",
   "execution_count": 33,
   "id": "b340b71b-58d7-466e-92af-048635357dbf",
   "metadata": {
    "scrolled": true
   },
   "outputs": [
    {
     "data": {
      "text/plain": [
       "\n",
       "Call:\n",
       "lm(formula = wage_growth ~ unemployment + I(unemployment^2), \n",
       "    data = economic)\n",
       "\n",
       "Residuals:\n",
       "    Min      1Q  Median      3Q     Max \n",
       "-1.7515 -0.4407  0.0601  0.4287  1.9382 \n",
       "\n",
       "Coefficients:\n",
       "                   Estimate Std. Error t value Pr(>|t|)    \n",
       "(Intercept)       12.234206   0.208069   58.80  < 2e-16 ***\n",
       "unemployment      -1.743170   0.091052  -19.14  < 2e-16 ***\n",
       "I(unemployment^2)  0.067408   0.007287    9.25 6.07e-15 ***\n",
       "---\n",
       "Signif. codes:  0 '***' 0.001 '**' 0.01 '*' 0.05 '.' 0.1 ' ' 1\n",
       "\n",
       "Residual standard error: 0.6681 on 96 degrees of freedom\n",
       "Multiple R-squared:  0.9436,\tAdjusted R-squared:  0.9424 \n",
       "F-statistic:   803 on 2 and 96 DF,  p-value: < 2.2e-16\n"
      ]
     },
     "metadata": {},
     "output_type": "display_data"
    }
   ],
   "source": [
    "model1 <- lm(wage_growth ~ unemployment + I(unemployment^2), data=economic)\n",
    "summary(model1)"
   ]
  },
  {
   "cell_type": "markdown",
   "id": "1789d213-1042-44c6-ad3f-31d99620b365",
   "metadata": {},
   "source": [
    "## Prediction & Intervals"
   ]
  },
  {
   "cell_type": "code",
   "execution_count": 34,
   "id": "f04c4358-6b83-404e-8cb9-53b5e5dc8375",
   "metadata": {},
   "outputs": [
    {
     "name": "stdout",
     "output_type": "stream",
     "text": [
      "[1] \"prediction interval\"\n"
     ]
    },
    {
     "data": {
      "text/html": [
       "<table class=\"dataframe\">\n",
       "<caption>A matrix: 1 × 3 of type dbl</caption>\n",
       "<thead>\n",
       "\t<tr><th></th><th scope=col>fit</th><th scope=col>lwr</th><th scope=col>upr</th></tr>\n",
       "</thead>\n",
       "<tbody>\n",
       "\t<tr><th scope=row>1</th><td>8.2414</td><td>7.1249</td><td>9.358</td></tr>\n",
       "</tbody>\n",
       "</table>\n"
      ],
      "text/latex": [
       "A matrix: 1 × 3 of type dbl\n",
       "\\begin{tabular}{r|lll}\n",
       "  & fit & lwr & upr\\\\\n",
       "\\hline\n",
       "\t1 & 8.2414 & 7.1249 & 9.358\\\\\n",
       "\\end{tabular}\n"
      ],
      "text/markdown": [
       "\n",
       "A matrix: 1 × 3 of type dbl\n",
       "\n",
       "| <!--/--> | fit | lwr | upr |\n",
       "|---|---|---|---|\n",
       "| 1 | 8.2414 | 7.1249 | 9.358 |\n",
       "\n"
      ],
      "text/plain": [
       "  fit    lwr    upr  \n",
       "1 8.2414 7.1249 9.358"
      ]
     },
     "metadata": {},
     "output_type": "display_data"
    },
    {
     "name": "stdout",
     "output_type": "stream",
     "text": [
      "[1] \"confidence interval\"\n"
     ]
    },
    {
     "data": {
      "text/html": [
       "<table class=\"dataframe\">\n",
       "<caption>A matrix: 1 × 3 of type dbl</caption>\n",
       "<thead>\n",
       "\t<tr><th></th><th scope=col>fit</th><th scope=col>lwr</th><th scope=col>upr</th></tr>\n",
       "</thead>\n",
       "<tbody>\n",
       "\t<tr><th scope=row>1</th><td>8.2414</td><td>8.1177</td><td>8.3651</td></tr>\n",
       "</tbody>\n",
       "</table>\n"
      ],
      "text/latex": [
       "A matrix: 1 × 3 of type dbl\n",
       "\\begin{tabular}{r|lll}\n",
       "  & fit & lwr & upr\\\\\n",
       "\\hline\n",
       "\t1 & 8.2414 & 8.1177 & 8.3651\\\\\n",
       "\\end{tabular}\n"
      ],
      "text/markdown": [
       "\n",
       "A matrix: 1 × 3 of type dbl\n",
       "\n",
       "| <!--/--> | fit | lwr | upr |\n",
       "|---|---|---|---|\n",
       "| 1 | 8.2414 | 8.1177 | 8.3651 |\n",
       "\n"
      ],
      "text/plain": [
       "  fit    lwr    upr   \n",
       "1 8.2414 8.1177 8.3651"
      ]
     },
     "metadata": {},
     "output_type": "display_data"
    }
   ],
   "source": [
    "newdata <- data.frame(unemployment=2.54)\n",
    "\n",
    "print(\"prediction interval\")\n",
    "prediction_pred_int <- predict(model1, newdata, interval=\"predict\", level=0.90) \n",
    "round(prediction_pred_int,4)\n",
    "\n",
    "print(\"confidence interval\")\n",
    "prediction_conf_int <- predict(model1, newdata, interval=\"confidence\", level=0.90) \n",
    "round(prediction_conf_int,4)"
   ]
  },
  {
   "cell_type": "markdown",
   "id": "8064fd33-fd59-42df-8e94-c67790bb2f8a",
   "metadata": {
    "jp-MarkdownHeadingCollapsed": true
   },
   "source": [
    "# Two Quantiative Vars. Second Order Regresson Model, Stats"
   ]
  },
  {
   "cell_type": "code",
   "execution_count": 21,
   "id": "cd1738fa-7d8a-4bfa-9a70-cf920b1a2572",
   "metadata": {},
   "outputs": [
    {
     "data": {
      "text/plain": [
       "\n",
       "Call:\n",
       "lm(formula = wage_growth ~ unemployment + gdp + unemployment:gdp + \n",
       "    I(unemployment^2) + I(gdp^2), data = economic)\n",
       "\n",
       "Residuals:\n",
       "     Min       1Q   Median       3Q      Max \n",
       "-1.37686 -0.35318  0.01594  0.33860  1.55345 \n",
       "\n",
       "Coefficients:\n",
       "                   Estimate Std. Error t value Pr(>|t|)    \n",
       "(Intercept)        8.989434   1.014702   8.859 5.30e-14 ***\n",
       "unemployment      -1.152823   0.244170  -4.721 8.26e-06 ***\n",
       "gdp                0.283691   0.140811   2.015  0.04682 *  \n",
       "I(unemployment^2)  0.037685   0.013069   2.884  0.00489 ** \n",
       "I(gdp^2)          -0.006599   0.004299  -1.535  0.12815    \n",
       "unemployment:gdp  -0.006282   0.021119  -0.297  0.76678    \n",
       "---\n",
       "Signif. codes:  0 '***' 0.001 '**' 0.01 '*' 0.05 '.' 0.1 ' ' 1\n",
       "\n",
       "Residual standard error: 0.5807 on 93 degrees of freedom\n",
       "Multiple R-squared:  0.9587,\tAdjusted R-squared:  0.9565 \n",
       "F-statistic:   432 on 5 and 93 DF,  p-value: < 2.2e-16\n"
      ]
     },
     "metadata": {},
     "output_type": "display_data"
    }
   ],
   "source": [
    "# Create the second order regression model and print the statistics\n",
    "model2 <- lm(wage_growth ~ unemployment + gdp + unemployment:gdp + I(unemployment^2) + I(gdp^2) , data=economic)\n",
    "summary(model2)"
   ]
  },
  {
   "cell_type": "markdown",
   "id": "fb16b8c4-73d9-4464-b6a2-530e163cab0f",
   "metadata": {},
   "source": [
    "## Prediction & Intervals"
   ]
  },
  {
   "cell_type": "code",
   "execution_count": 23,
   "id": "f2884863-e820-422e-b391-9d35c49ad6f5",
   "metadata": {},
   "outputs": [
    {
     "name": "stdout",
     "output_type": "stream",
     "text": [
      "[1] \"prediction interval\"\n"
     ]
    },
    {
     "data": {
      "text/html": [
       "<table class=\"dataframe\">\n",
       "<caption>A matrix: 1 × 3 of type dbl</caption>\n",
       "<thead>\n",
       "\t<tr><th></th><th scope=col>fit</th><th scope=col>lwr</th><th scope=col>upr</th></tr>\n",
       "</thead>\n",
       "<tbody>\n",
       "\t<tr><th scope=row>1</th><td>7.806</td><td>6.8234</td><td>8.7886</td></tr>\n",
       "</tbody>\n",
       "</table>\n"
      ],
      "text/latex": [
       "A matrix: 1 × 3 of type dbl\n",
       "\\begin{tabular}{r|lll}\n",
       "  & fit & lwr & upr\\\\\n",
       "\\hline\n",
       "\t1 & 7.806 & 6.8234 & 8.7886\\\\\n",
       "\\end{tabular}\n"
      ],
      "text/markdown": [
       "\n",
       "A matrix: 1 × 3 of type dbl\n",
       "\n",
       "| <!--/--> | fit | lwr | upr |\n",
       "|---|---|---|---|\n",
       "| 1 | 7.806 | 6.8234 | 8.7886 |\n",
       "\n"
      ],
      "text/plain": [
       "  fit   lwr    upr   \n",
       "1 7.806 6.8234 8.7886"
      ]
     },
     "metadata": {},
     "output_type": "display_data"
    },
    {
     "name": "stdout",
     "output_type": "stream",
     "text": [
      "[1] \"confidence interval\"\n"
     ]
    },
    {
     "data": {
      "text/html": [
       "<table class=\"dataframe\">\n",
       "<caption>A matrix: 1 × 3 of type dbl</caption>\n",
       "<thead>\n",
       "\t<tr><th></th><th scope=col>fit</th><th scope=col>lwr</th><th scope=col>upr</th></tr>\n",
       "</thead>\n",
       "<tbody>\n",
       "\t<tr><th scope=row>1</th><td>7.806</td><td>7.6195</td><td>7.9925</td></tr>\n",
       "</tbody>\n",
       "</table>\n"
      ],
      "text/latex": [
       "A matrix: 1 × 3 of type dbl\n",
       "\\begin{tabular}{r|lll}\n",
       "  & fit & lwr & upr\\\\\n",
       "\\hline\n",
       "\t1 & 7.806 & 7.6195 & 7.9925\\\\\n",
       "\\end{tabular}\n"
      ],
      "text/markdown": [
       "\n",
       "A matrix: 1 × 3 of type dbl\n",
       "\n",
       "| <!--/--> | fit | lwr | upr |\n",
       "|---|---|---|---|\n",
       "| 1 | 7.806 | 7.6195 | 7.9925 |\n",
       "\n"
      ],
      "text/plain": [
       "  fit   lwr    upr   \n",
       "1 7.806 7.6195 7.9925"
      ]
     },
     "metadata": {},
     "output_type": "display_data"
    }
   ],
   "source": [
    "newdata <- data.frame(unemployment=2.50, gdp=6.50)\n",
    "\n",
    "print(\"prediction interval\")\n",
    "prediction_pred_int <- predict(model2, newdata, interval=\"predict\", level=0.90) \n",
    "round(prediction_pred_int,4)\n",
    "\n",
    "print(\"confidence interval\")\n",
    "prediction_conf_int <- predict(model2, newdata, interval=\"confidence\", level=0.90) \n",
    "round(prediction_conf_int,4)"
   ]
  },
  {
   "cell_type": "markdown",
   "id": "38b2201d-04f6-4e09-a95c-1322a802dee4",
   "metadata": {},
   "source": [
    "# One Quantiative and One Qualitative Var. Second Order Regresson Model, Stats"
   ]
  },
  {
   "cell_type": "code",
   "execution_count": 29,
   "id": "eca65671-9a32-4933-92d2-7fb187d8576a",
   "metadata": {},
   "outputs": [
    {
     "data": {
      "text/plain": [
       "\n",
       "Call:\n",
       "lm(formula = wage_growth ~ unemployment + economy + unemployment:economy + \n",
       "    I(unemployment^2) + I(unemployment^2):economy, data = economic)\n",
       "\n",
       "Residuals:\n",
       "     Min       1Q   Median       3Q      Max \n",
       "-1.77220 -0.35522  0.04877  0.42602  1.90778 \n",
       "\n",
       "Coefficients:\n",
       "                                   Estimate Std. Error t value Pr(>|t|)    \n",
       "(Intercept)                        12.36072    0.27055  45.687  < 2e-16 ***\n",
       "unemployment                       -1.80834    0.14236 -12.703  < 2e-16 ***\n",
       "economyrecession                   -2.70404    1.08221  -2.499   0.0142 *  \n",
       "I(unemployment^2)                   0.07574    0.01460   5.188 1.24e-06 ***\n",
       "unemployment:economyrecession       0.69359    0.30901   2.245   0.0272 *  \n",
       "economyrecession:I(unemployment^2) -0.04358    0.02206  -1.976   0.0512 .  \n",
       "---\n",
       "Signif. codes:  0 '***' 0.001 '**' 0.01 '*' 0.05 '.' 0.1 ' ' 1\n",
       "\n",
       "Residual standard error: 0.6551 on 93 degrees of freedom\n",
       "Multiple R-squared:  0.9475,\tAdjusted R-squared:  0.9446 \n",
       "F-statistic: 335.4 on 5 and 93 DF,  p-value: < 2.2e-16\n"
      ]
     },
     "metadata": {},
     "output_type": "display_data"
    }
   ],
   "source": [
    "# Create the second order regression model and print the statistics\n",
    "model3 <- lm(wage_growth ~ unemployment + economy + unemployment:economy + I(unemployment^2) + I(unemployment^2):economy, data=economic)\n",
    "summary(model3)"
   ]
  },
  {
   "cell_type": "markdown",
   "id": "82a07871-58a8-42f7-be10-e39f7cdf033f",
   "metadata": {},
   "source": [
    "## Prediction & Intervals"
   ]
  },
  {
   "cell_type": "code",
   "execution_count": 31,
   "id": "9a9bb626-c0ee-4da9-88c0-ae20c1f310e7",
   "metadata": {},
   "outputs": [
    {
     "name": "stdout",
     "output_type": "stream",
     "text": [
      "[1] \"prediction interval\"\n"
     ]
    },
    {
     "data": {
      "text/html": [
       "<table class=\"dataframe\">\n",
       "<caption>A matrix: 1 × 3 of type dbl</caption>\n",
       "<thead>\n",
       "\t<tr><th></th><th scope=col>fit</th><th scope=col>lwr</th><th scope=col>upr</th></tr>\n",
       "</thead>\n",
       "<tbody>\n",
       "\t<tr><th scope=row>1</th><td>8.3132</td><td>7.2171</td><td>9.4094</td></tr>\n",
       "</tbody>\n",
       "</table>\n"
      ],
      "text/latex": [
       "A matrix: 1 × 3 of type dbl\n",
       "\\begin{tabular}{r|lll}\n",
       "  & fit & lwr & upr\\\\\n",
       "\\hline\n",
       "\t1 & 8.3132 & 7.2171 & 9.4094\\\\\n",
       "\\end{tabular}\n"
      ],
      "text/markdown": [
       "\n",
       "A matrix: 1 × 3 of type dbl\n",
       "\n",
       "| <!--/--> | fit | lwr | upr |\n",
       "|---|---|---|---|\n",
       "| 1 | 8.3132 | 7.2171 | 9.4094 |\n",
       "\n"
      ],
      "text/plain": [
       "  fit    lwr    upr   \n",
       "1 8.3132 7.2171 9.4094"
      ]
     },
     "metadata": {},
     "output_type": "display_data"
    },
    {
     "name": "stdout",
     "output_type": "stream",
     "text": [
      "[1] \"confidence interval\"\n"
     ]
    },
    {
     "data": {
      "text/html": [
       "<table class=\"dataframe\">\n",
       "<caption>A matrix: 1 × 3 of type dbl</caption>\n",
       "<thead>\n",
       "\t<tr><th></th><th scope=col>fit</th><th scope=col>lwr</th><th scope=col>upr</th></tr>\n",
       "</thead>\n",
       "<tbody>\n",
       "\t<tr><th scope=row>1</th><td>8.3132</td><td>8.1827</td><td>8.4437</td></tr>\n",
       "</tbody>\n",
       "</table>\n"
      ],
      "text/latex": [
       "A matrix: 1 × 3 of type dbl\n",
       "\\begin{tabular}{r|lll}\n",
       "  & fit & lwr & upr\\\\\n",
       "\\hline\n",
       "\t1 & 8.3132 & 8.1827 & 8.4437\\\\\n",
       "\\end{tabular}\n"
      ],
      "text/markdown": [
       "\n",
       "A matrix: 1 × 3 of type dbl\n",
       "\n",
       "| <!--/--> | fit | lwr | upr |\n",
       "|---|---|---|---|\n",
       "| 1 | 8.3132 | 8.1827 | 8.4437 |\n",
       "\n"
      ],
      "text/plain": [
       "  fit    lwr    upr   \n",
       "1 8.3132 8.1827 8.4437"
      ]
     },
     "metadata": {},
     "output_type": "display_data"
    }
   ],
   "source": [
    "newdata <- data.frame(unemployment=2.50, economy='no_recession')\n",
    "\n",
    "print(\"prediction interval\")\n",
    "prediction_pred_int <- predict(model3, newdata, interval=\"predict\", level=0.90) \n",
    "round(prediction_pred_int,4)\n",
    "\n",
    "print(\"confidence interval\")\n",
    "prediction_conf_int <- predict(model3, newdata, interval=\"confidence\", level=0.90) \n",
    "round(prediction_conf_int,4)"
   ]
  }
 ],
 "metadata": {
  "kernelspec": {
   "display_name": "R",
   "language": "R",
   "name": "ir"
  },
  "language_info": {
   "codemirror_mode": "r",
   "file_extension": ".r",
   "mimetype": "text/x-r-source",
   "name": "R",
   "pygments_lexer": "r",
   "version": "4.4.2"
  }
 },
 "nbformat": 4,
 "nbformat_minor": 5
}
